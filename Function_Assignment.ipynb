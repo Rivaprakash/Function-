{
  "nbformat": 4,
  "nbformat_minor": 0,
  "metadata": {
    "colab": {
      "provenance": []
    },
    "kernelspec": {
      "name": "python3",
      "display_name": "Python 3"
    },
    "language_info": {
      "name": "python"
    }
  },
  "cells": [
    {
      "cell_type": "markdown",
      "source": [
        "1. What is the difference between a function and a method in Python?\n",
        "\n",
        "Ans- A function is a block of statement that performs a specific task.It helps to decrease the redundancy of code. While,\n",
        "\n",
        "A method in Python is a function that is defined inside a class and is associated with an object of that class. It operates on the data (attributes) of the object and can perform specific actions related to the object."
      ],
      "metadata": {
        "id": "ASsj5gCLyIey"
      }
    },
    {
      "cell_type": "markdown",
      "source": [
        "2.  Explain the concept of function arguments and parameters in Python.\n",
        "\n",
        "Ans-  A parameter is a variable that we define in a function to accept input when the function is called. It acts like a placeholder. Example,\n",
        "\n",
        "    def calc_sum(a,b):\n",
        "      sum(a+b)\n",
        "      return sum\n",
        "\n",
        "While,\n",
        "\n",
        "An arguments is the actual value we pass to the function when calling it. Example,\n",
        "\n",
        "    calc_sum(4,6) #ouutput 10"
      ],
      "metadata": {
        "id": "mv6cR6VOy_Dd"
      }
    },
    {
      "cell_type": "markdown",
      "source": [
        "3. What are the different ways to define and call a function in Python?\n",
        "\n",
        "Ans- In Python, functions can be defined in various ways:\n",
        "\n",
        "regular functions,\n",
        "\n",
        "    def calc_sum(a,b):\n",
        "      sum(a+b)\n",
        "\n",
        "default arguments,\n",
        "\n",
        "    def calc_sum(a,b=2):\n",
        "        sum(a+b)\n",
        "\n",
        "\n",
        "variable-length (*args, **kwargs),\n",
        "\n",
        "    def describe(*args, **kwargs):\n",
        "      print(\"Args:\", args)\n",
        "      print(\"Kwargs:\", kwargs)\n",
        "\n",
        "lambda (anonymous) functions,\n",
        "\n",
        "    square = lambda x: x ** 2\n",
        "\n",
        "recursive functions\n",
        "\n",
        "    def factorial(n):\n",
        "      if n == 1:\n",
        "          return 1\n",
        "      return n * factorial(n - 1)\n",
        "\n",
        "Functions are called using their name, passing arguments as needed to execute their logic."
      ],
      "metadata": {
        "id": "o61td8ez0IlK"
      }
    },
    {
      "cell_type": "markdown",
      "source": [
        "4.  What is the purpose of the `return` statement in a Python function?\n",
        "\n",
        "Ans- The return statement in a Python function is used to send a result or value back to the caller. It terminates the function's execution and specifies the output. Without a 'return', the function returns None by default.\n",
        "\n",
        "    def add(a, b):\n",
        "        return a + b  # Sends the sum back\n",
        "\n",
        "    result = add(3, 4)\n",
        "    print(result)  # Output: 7\n"
      ],
      "metadata": {
        "id": "sxMwFbpe4Ok-"
      }
    },
    {
      "cell_type": "markdown",
      "source": [
        "5.  What are iterators in Python and how do they differ from iterables?\n",
        "\n",
        "Ans- An iterator is an object that represents a stream of data and can be used to fetch one item at a time using the next() function. While,\n",
        "\n",
        "An iterable is any object that can be looped over (e.g., lists, tuples, strings, etc.).\n",
        "It has a special method iter() that returns an iterator.\n",
        "\n",
        "    my_list = [1, 2, 3]  # Iterable\n",
        "    \n",
        "    iterator = iter(my_list) # Iterator\n",
        "\n",
        "    # Fetching items from the iterator\n",
        "    print(next(iterator))  # Output: 1\n",
        "    print(next(iterator))  # Output: 2\n",
        "    print(next(iterator))  # Output: 3\n"
      ],
      "metadata": {
        "id": "sBTsEnGb4vP9"
      }
    },
    {
      "cell_type": "markdown",
      "source": [
        "6. Explain the concept of generators in Python and how they are defined.\n",
        "\n",
        "Ans- Generators in Python are a type of iterable that produce items one at a time using the yield keyword. They allow us to generate values on the fly, making them memory-efficient for handling large datasets or infinite sequences.\n",
        "\n",
        "    def count_up_to(n):\n",
        "        count = 1\n",
        "        while count <= n:\n",
        "          yield count\n",
        "          count += 1\n"
      ],
      "metadata": {
        "id": "1IpvVyew5zF7"
      }
    },
    {
      "cell_type": "markdown",
      "source": [
        "7. What are the advantages of using generators over regular functions?\n",
        "\n",
        "Ans - Generators offer several advantages over regular functions, particularly when dealing with large datasets or infinite sequences.\n",
        "\n",
        "* Memory Efficient: Produce values one at a time without storing them in memory.\n",
        "* Simplified Code: Manage state automatically with yield.\n",
        "* Handle Infinite Sequences: Easily generate infinite data streams.\n",
        "* Improved Performance: Reduce overhead compared to creating large lists.\n",
        "* Seamless Integration: Work well with loops and tools like map() and filter()"
      ],
      "metadata": {
        "id": "SJlnkgqU69fT"
      }
    },
    {
      "cell_type": "markdown",
      "source": [
        "8. What is a lambda function in Python and when is it typically used?\n",
        "\n",
        "Ans - A lambda function is a small anonymous function defined using the lambda keyword. Unlike regular functions defined with def, lambda functions are typically written in a single line. Example,\n",
        "\n",
        "    add = lambda x, y: x + y\n",
        "    print(add(2, 3))  # Output: 5\n",
        "Lambda functions are often used for small tasks that don’t need a full function definition. They're concise and useful for one-time operations."
      ],
      "metadata": {
        "id": "k-xp-lxH7vtE"
      }
    },
    {
      "cell_type": "markdown",
      "source": [
        "9. Explain the purpose and usage of the map() function in Python.\n",
        "\n",
        "Ans -The map() function in Python is used to apply a specific function to each item in an iterable (like a list, tuple, etc.), and it returns an iterator that produces the results. It is commonly used when we need to perform the same operation on every item of an iterable. Example,\n",
        "\n",
        "    def square(x):\n",
        "      return x ** 2\n",
        "\n",
        "    numbers = [1, 2, 3, 4, 5]\n",
        "\n",
        "    # Using map() to apply 'square' to each item in 'numbers'\n",
        "    squared_numbers = map(square, numbers)\n",
        "\n",
        "    print(list(squared_numbers))  # Output: [1, 4, 9, 16, 25]\n"
      ],
      "metadata": {
        "id": "SSLsUdEZ7zz5"
      }
    },
    {
      "cell_type": "markdown",
      "source": [
        "10. What is the difference between map(), reduce(), and filter() functions in Python?\n",
        "\n",
        "Ans- The difference between map(), reduce(), and filter() functions in Python are:\n",
        "\n",
        "-> Map( )\n",
        "* Purpose: Applies a function to each item in an iterable and returns a new iterable (an iterator) with the results.\n",
        "* Usage: When we want to transform each item in an iterable.\n",
        "* Return Type: Returns an iterator, so we need to convert it to a list or another collection type.\n",
        "\n",
        "      numbers = [1, 2, 3, 4]\n",
        "      squared = map(lambda x: x**2, numbers)\n",
        "      print(list(squared))  # Output: [1, 4, 9, 16]\n",
        "\n",
        "\n",
        "-> Reduce( )\n",
        "* Purpose: Applies a function cumulatively to the items in an iterable, reducing the iterable to a single value (e.g., summing numbers, multiplying numbers).\n",
        "* Usage: When we need to accumulate a result across the iterable (e.g., sum, product).\n",
        "* Return Type: Returns a single value.\n",
        "\n",
        "      numbers = [1, 2, 3, 4]\n",
        "      product = reduce(lambda x, y: x * y, numbers)\n",
        "      print(product)  # Output: 24\n",
        "\n",
        "\n",
        "-> Filter( )\n",
        "* Purpose: Filters items from an iterable by applying a function that returns True or False. It returns only the items where the function returns True.\n",
        "* Usage: When we want to filter out certain elements based on a condition.\n",
        "* Return Type: Returns an iterator, so we need to convert it to a list or another collection type.\n",
        "\n",
        "      numbers = [1, 2, 3, 4, 5, 6]\n",
        "      even_numbers = filter(lambda x: x % 2 == 0, numbers)\n",
        "      print(list(even_numbers))  # Output: [2, 4, 6]\n"
      ],
      "metadata": {
        "id": "rujJ0m2v73z3"
      }
    },
    {
      "cell_type": "markdown",
      "source": [
        "11. Using pen & Paper write the internal mechanism for sum operation using  reduce function on this given list: [47,11,42,13].\n",
        "\n",
        "Ans- https://drive.google.com/file/d/1muCl1On56mql-DWnGZn4NSWSK2qXZfcQ/view?usp=drive_link"
      ],
      "metadata": {
        "id": "dylxnGaP79fn"
      }
    },
    {
      "cell_type": "code",
      "source": [
        "#1. Write a Python function that takes a list of numbers as input and returns the sum of all even numbers in the list.\n",
        "\n",
        "def sum_even_numbers(numbers):\n",
        "    return sum(num for num in numbers if num % 2 == 0)\n",
        "\n",
        "numbers = [1, 2, 3, 4, 5, 6]\n",
        "result = sum_even_numbers(numbers)\n",
        "print(result)\n"
      ],
      "metadata": {
        "colab": {
          "base_uri": "https://localhost:8080/"
        },
        "id": "TgJTiYA48T3E",
        "outputId": "db5757d9-f3b3-44f8-fabe-448dd38f64ec"
      },
      "execution_count": null,
      "outputs": [
        {
          "output_type": "stream",
          "name": "stdout",
          "text": [
            "12\n"
          ]
        }
      ]
    },
    {
      "cell_type": "code",
      "source": [
        "#2.  Create a Python function that accepts a string and returns the reverse of that string.\n",
        "\n",
        "def reverse_string(s):\n",
        "    return s[::-1]\n",
        "\n",
        "result = reverse_string(\"riva\")\n",
        "print(result)\n"
      ],
      "metadata": {
        "colab": {
          "base_uri": "https://localhost:8080/"
        },
        "id": "JvnYbvfL9o2C",
        "outputId": "5deac3f1-bf4b-4eb5-f8d9-2ebf520a4e0a"
      },
      "execution_count": null,
      "outputs": [
        {
          "output_type": "stream",
          "name": "stdout",
          "text": [
            "avir\n"
          ]
        }
      ]
    },
    {
      "cell_type": "code",
      "source": [
        "#3.  Implement a Python function that takes a list of integers and returns a new list containing the squares of each number.\n",
        "\n",
        "def square_numbers(numbers):\n",
        "    return [num ** 2 for num in numbers]\n",
        "\n",
        "numbers = [1, 2, 3, 4, 5]\n",
        "result = square_numbers(numbers)\n",
        "print(result)\n"
      ],
      "metadata": {
        "colab": {
          "base_uri": "https://localhost:8080/"
        },
        "id": "ls4VfNjL-VqT",
        "outputId": "4bf76e24-5f19-4a43-f93f-6133771ea2b9"
      },
      "execution_count": null,
      "outputs": [
        {
          "output_type": "stream",
          "name": "stdout",
          "text": [
            "[1, 4, 9, 16, 25]\n"
          ]
        }
      ]
    },
    {
      "cell_type": "code",
      "source": [
        "#4. Write a Python function that checks if a given number is prime or not from 1 to 200.\n",
        "\n",
        "def is_prime(n):\n",
        "    if n <= 1:\n",
        "        return False\n",
        "    for i in range(2, int(n**0.5) + 1):  # Check divisibility up to the square root of n\n",
        "        if n % i == 0:\n",
        "            return False\n",
        "    return True\n",
        "\n",
        "for num in range(1, 201):\n",
        "    if is_prime(num):\n",
        "        print(num, end=\" \")\n"
      ],
      "metadata": {
        "colab": {
          "base_uri": "https://localhost:8080/"
        },
        "id": "PBc_P08A-qBo",
        "outputId": "9ee79ea7-dd65-4581-f30d-55a0d5906080"
      },
      "execution_count": null,
      "outputs": [
        {
          "output_type": "stream",
          "name": "stdout",
          "text": [
            "2 3 5 7 11 13 17 19 23 29 31 37 41 43 47 53 59 61 67 71 73 79 83 89 97 101 103 107 109 113 127 131 137 139 149 151 157 163 167 173 179 181 191 193 197 199 "
          ]
        }
      ]
    },
    {
      "cell_type": "code",
      "source": [
        "#5. Create an iterator class in Python that generates the Fibonacci sequence up to a specified number of terms.\n",
        "\n",
        "class FibonacciIterator:\n",
        "    def __init__(self, terms):\n",
        "        self.terms = terms  # Number of terms to generate\n",
        "        self.a, self.b = 0, 1  # Initial values for the Fibonacci sequence\n",
        "        self.count = 0  # Counter to track the number of terms generated\n",
        "\n",
        "    def __iter__(self):\n",
        "        return self  # The object itself is the iterator\n",
        "\n",
        "    def __next__(self):\n",
        "        if self.count >= self.terms:\n",
        "            raise StopIteration  # Stop iteration when the limit is reached\n",
        "        fib_number = self.a\n",
        "        self.a, self.b = self.b, self.a + self.b  # Update to the next Fibonacci numbers\n",
        "        self.count += 1\n",
        "        return fib_number\n",
        "\n",
        "fibonacci = FibonacciIterator(10)  # Generate first 10 Fibonacci numbers\n",
        "for num in fibonacci:\n",
        "    print(num, end = \" \")\n"
      ],
      "metadata": {
        "colab": {
          "base_uri": "https://localhost:8080/"
        },
        "id": "NZ71JT-l--54",
        "outputId": "5120ddfb-81db-40a1-97ef-d0458a45e6ce"
      },
      "execution_count": null,
      "outputs": [
        {
          "output_type": "stream",
          "name": "stdout",
          "text": [
            "0 1 1 2 3 5 8 13 21 34 "
          ]
        }
      ]
    },
    {
      "cell_type": "code",
      "source": [
        "#6.  Write a generator function in Python that yields the powers of 2 up to a given exponent.\n",
        "\n",
        "def power_of_2(exponent):\n",
        "    for i in range(exponent + 1):\n",
        "        yield 2 ** i\n",
        "\n",
        "for p in power_of_2(5):\n",
        "    print(p, end =\" \")\n"
      ],
      "metadata": {
        "colab": {
          "base_uri": "https://localhost:8080/"
        },
        "id": "cgsLk8WHACd9",
        "outputId": "af027a37-25e8-411d-8587-87ec50025c63"
      },
      "execution_count": null,
      "outputs": [
        {
          "output_type": "stream",
          "name": "stdout",
          "text": [
            "1 2 4 8 16 32 "
          ]
        }
      ]
    },
    {
      "cell_type": "code",
      "source": [
        "#7.  Implement a generator function that reads a file line by line and yields each line as a string.\n",
        "\n",
        "def read_file_lines(file_path):\n",
        "  \"\"\"\n",
        "  Reads a file line by line and yields each line as a string.\n",
        "\n",
        "  Args:\n",
        "    file_path: The path to the file to read.\n",
        "\n",
        "  Yields:\n",
        "    Each line of the file as a string.\n",
        "  \"\"\"\n",
        "  with open(file_path, 'r') as file:\n",
        "    for line in file:\n",
        "      yield line.strip()\n"
      ],
      "metadata": {
        "id": "n_ODVjTfAzKM"
      },
      "execution_count": null,
      "outputs": []
    },
    {
      "cell_type": "code",
      "source": [
        "#8. Use a lambda function in Python to sort a list of tuples based on the second element of each tuple.\n",
        "\n",
        "tup_list = [(1, 4), (2, 2), (3, 5), (4, 1)]\n",
        "\n",
        "# Sorting the list using a lambda function\n",
        "sorted_list = sorted(tup_list, key=lambda x: x[1])\n",
        "\n",
        "print(sorted_list)"
      ],
      "metadata": {
        "colab": {
          "base_uri": "https://localhost:8080/"
        },
        "id": "7YM1XHGMBZVf",
        "outputId": "b079c984-5b15-4894-c457-c7329dd4b07d"
      },
      "execution_count": null,
      "outputs": [
        {
          "output_type": "stream",
          "name": "stdout",
          "text": [
            "[(4, 1), (2, 2), (1, 4), (3, 5)]\n"
          ]
        }
      ]
    },
    {
      "cell_type": "code",
      "source": [
        "#9. Write a Python program that uses `map()` to convert a list of temperatures from Celsius to Fahrenheit.\n",
        "\n",
        "celsius_temps = [0, 25, 30, 15, -5]\n",
        "\n",
        "# Function to convert Celsius to Fahrenheit\n",
        "def celsius_to_fahrenheit(celsius):\n",
        "    return (celsius * 9/5) + 32\n",
        "\n",
        "# Using map() to apply the conversion function\n",
        "fahrenheit_temps = list(map(celsius_to_fahrenheit, celsius_temps))\n",
        "\n",
        "print(fahrenheit_temps)\n"
      ],
      "metadata": {
        "colab": {
          "base_uri": "https://localhost:8080/"
        },
        "id": "2V5KMQR9CL1y",
        "outputId": "aeb1a3c1-3f9e-4a88-8f87-5a2650ff3af3"
      },
      "execution_count": null,
      "outputs": [
        {
          "output_type": "stream",
          "name": "stdout",
          "text": [
            "[32.0, 77.0, 86.0, 59.0, 23.0]\n"
          ]
        }
      ]
    },
    {
      "cell_type": "code",
      "source": [
        "#10. Create a Python program that uses `filter()` to remove all the vowels from a given string.\n",
        "\n",
        "# Function to check if a character is not a vowel\n",
        "def is_not_vowel(char):\n",
        "    return char.lower() not in 'aeiou'\n",
        "\n",
        "input_string = \"Hello, World!\"\n",
        "\n",
        "# Using filter() to remove vowels\n",
        "filtered_string = ''.join(filter(is_not_vowel, input_string))\n",
        "\n",
        "print(filtered_string)\n"
      ],
      "metadata": {
        "colab": {
          "base_uri": "https://localhost:8080/"
        },
        "id": "4E1BelZZCw_V",
        "outputId": "42965580-313d-4035-a05c-bea52b1c3082"
      },
      "execution_count": null,
      "outputs": [
        {
          "output_type": "stream",
          "name": "stdout",
          "text": [
            "Hll, Wrld!\n"
          ]
        }
      ]
    },
    {
      "cell_type": "code",
      "source": [
        "#11.  Imagine an accounting routine used in a book shop. It works on a list with sublists, which look like this:\n",
        "\n",
        "orders = [\n",
        "    [34587, 'Learning Python, Mark Lutz', 4, 40.95],\n",
        "    [98762, 'Programming Python, Mark Lutz', 5, 56.80],\n",
        "    [77226, 'Head First Python, Paul Barry', 3, 32.95],\n",
        "    [88112, 'Einführung in Python3, Bernd Klein', 3, 24.99]\n",
        "]\n",
        "\n",
        "result = list(map(lambda order: (order[0], order[3] * order[2] + 10 if order[3] * order[2] < 100 else order[3] * order[2]), orders))\n",
        "\n",
        "print(result)"
      ],
      "metadata": {
        "colab": {
          "base_uri": "https://localhost:8080/"
        },
        "id": "u59MnpEnTVaR",
        "outputId": "b2d9efcf-7798-4aa8-b5bc-7aad047d9d32"
      },
      "execution_count": null,
      "outputs": [
        {
          "output_type": "stream",
          "name": "stdout",
          "text": [
            "[(34587, 163.8), (98762, 284.0), (77226, 108.85000000000001), (88112, 84.97)]\n"
          ]
        }
      ]
    }
  ]
}